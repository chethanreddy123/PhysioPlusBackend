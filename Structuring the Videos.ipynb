{
 "cells": [
  {
   "cell_type": "markdown",
   "id": "f90adeed",
   "metadata": {},
   "source": [
    "# Without Link"
   ]
  },
  {
   "cell_type": "code",
   "execution_count": 10,
   "id": "a660474a",
   "metadata": {},
   "outputs": [
    {
     "name": "stdout",
     "output_type": "stream",
     "text": [
      "287\n",
      "Exercises dictionary has been saved as exercises.json.\n"
     ]
    }
   ],
   "source": [
    "import os\n",
    "import json\n",
    "\n",
    "def get_videos_in_folder(folder_path):\n",
    "    videos = [f for f in os.listdir(folder_path) if f.endswith(('.mp4', '.avi', '.mkv', '.mov'))]\n",
    "    return videos\n",
    "\n",
    "def create_exercises_dictionary(root_folder):\n",
    "    count = 0\n",
    "    folder_structure = {}\n",
    "    for foldername, _, filenames in os.walk(root_folder):\n",
    "        folder_videos = get_videos_in_folder(foldername)\n",
    "        if folder_videos:\n",
    "            foldername_parts = foldername.split(os.path.sep)\n",
    "            foldername = foldername_parts[-1]\n",
    "            folder_structure[foldername] = {f\"Exercise {i+1}\": video for i, video in enumerate(folder_videos)}\n",
    "            count += len(folder_videos)\n",
    "    print(count)\n",
    "    return folder_structure\n",
    "\n",
    "# Replace 'path_to_root_folder' with the actual path to your root folder containing multiple folders with videos.\n",
    "path_to_root_folder = '/Users/achethanreddy/Downloads/Categorised Yoga Videos'\n",
    "exercises_dict = create_exercises_dictionary(path_to_root_folder)\n",
    "\n",
    "# Save the exercises dictionary as a JSON file\n",
    "json_file_path = 'exercises.json'\n",
    "with open(json_file_path, 'w') as json_file:\n",
    "    json.dump(exercises_dict, json_file, indent=4)\n",
    "\n",
    "print(f\"Exercises dictionary has been saved as {json_file_path}.\")\n"
   ]
  },
  {
   "cell_type": "markdown",
   "id": "38922409",
   "metadata": {},
   "source": [
    "# With Link"
   ]
  },
  {
   "cell_type": "code",
   "execution_count": 8,
   "id": "447bf819",
   "metadata": {},
   "outputs": [
    {
     "ename": "NameError",
     "evalue": "name 'files' is not defined",
     "output_type": "error",
     "traceback": [
      "\u001b[0;31m---------------------------------------------------------------------------\u001b[0m",
      "\u001b[0;31mNameError\u001b[0m                                 Traceback (most recent call last)",
      "Cell \u001b[0;32mIn[8], line 1\u001b[0m\n\u001b[0;32m----> 1\u001b[0m \u001b[38;5;28;01mfor\u001b[39;00m file \u001b[38;5;129;01min\u001b[39;00m \u001b[43mfiles\u001b[49m:\n\u001b[1;32m      2\u001b[0m     keys \u001b[38;5;241m=\u001b[39m file\u001b[38;5;241m.\u001b[39mkeys()\n\u001b[1;32m      3\u001b[0m     \u001b[38;5;28;01mif\u001b[39;00m file[\u001b[38;5;124m'\u001b[39m\u001b[38;5;124mshared\u001b[39m\u001b[38;5;124m'\u001b[39m]:\n",
      "\u001b[0;31mNameError\u001b[0m: name 'files' is not defined"
     ]
    }
   ],
   "source": [
    "for file in files:\n",
    "    keys = file.keys()\n",
    "    if file['shared']:\n",
    "        link = 'https://drive.google.com/drive/folders/12H1wwfvwpXVbwYi5sstNUon7Pg62yU-V?usp=sharing' + file['id'] + '?usp=sharing'\n",
    "    elif 'webContentLink' in keys:\n",
    "        link = file['webContentLink']\n",
    "    elif 'webViewLink' in keys:\n",
    "        link = file['webViewLink']\n",
    "    else:\n",
    "        link = 'No Link Available. Check your sharing settings.'\n",
    "\n",
    "    if 'name' in keys:\n",
    "        name = file['name']\n",
    "    else:\n",
    "        name = file['id']"
   ]
  },
  {
   "cell_type": "code",
   "execution_count": 27,
   "id": "9972d364",
   "metadata": {},
   "outputs": [],
   "source": [
    "import json\n",
    "\n",
    "def format_title(title):\n",
    "    # Remove \".mp4\" from the title\n",
    "    title = title[:-4]\n",
    "    # Capitalize and format the title\n",
    "    formatted_title = \" \".join(word.capitalize() for word in title.split())\n",
    "    return formatted_title\n",
    "\n",
    "def restructure_exercises(input_file, output_file):\n",
    "    with open(input_file, 'r') as f:\n",
    "        data = json.load(f)\n",
    "\n",
    "    restructured_data = {}\n",
    "    for category, exercises in data.items():\n",
    "        exercise_list = []\n",
    "        for exercise_number, exercise_title in exercises.items():\n",
    "            formatted_title = format_title(exercise_title)\n",
    "            exercise = {\n",
    "                \"Title\": formatted_title,\n",
    "                \"Link\": \"https://u.pcloud.link/publink/show?code=XZgcVNVZNOWUrQ2u8MhT2sdmGlHbvmUIhwxy\"\n",
    "            }\n",
    "            exercise_list.append(exercise)\n",
    "        restructured_data[category] = exercise_list\n",
    "\n",
    "    with open(output_file, 'w') as f:\n",
    "        json.dump(restructured_data, f, indent=4)\n",
    "\n",
    "# Replace 'exercise.json' with the actual path to your input JSON file\n",
    "# Replace 'restructured_exercise.json' with the desired output file name\n",
    "restructure_exercises('exercises.json', 'exercises.json')\n"
   ]
  },
  {
   "cell_type": "code",
   "execution_count": 16,
   "id": "c4615cb1",
   "metadata": {},
   "outputs": [
    {
     "name": "stdout",
     "output_type": "stream",
     "text": [
      "Collecting pcloud\n",
      "  Downloading pcloud-1.2-py3-none-any.whl (20 kB)\n",
      "Requirement already satisfied: requests in /Users/achethanreddy/miniconda3/envs/tensorflow/lib/python3.10/site-packages (from pcloud) (2.31.0)\n",
      "Collecting requests-toolbelt (from pcloud)\n",
      "  Downloading requests_toolbelt-1.0.0-py2.py3-none-any.whl (54 kB)\n",
      "\u001b[2K     \u001b[38;2;114;156;31m━━━━━━━━━━━━━━━━━━━━━━━━━━━━━━━━━━━━━━━\u001b[0m \u001b[32m54.5/54.5 kB\u001b[0m \u001b[31m965.1 kB/s\u001b[0m eta \u001b[36m0:00:00\u001b[0m31m1.1 MB/s\u001b[0m eta \u001b[36m0:00:01\u001b[0m\n",
      "\u001b[?25hRequirement already satisfied: setuptools in /Users/achethanreddy/miniconda3/envs/tensorflow/lib/python3.10/site-packages (from pcloud) (67.7.2)\n",
      "Requirement already satisfied: charset-normalizer<4,>=2 in /Users/achethanreddy/miniconda3/envs/tensorflow/lib/python3.10/site-packages (from requests->pcloud) (3.1.0)\n",
      "Requirement already satisfied: idna<4,>=2.5 in /Users/achethanreddy/miniconda3/envs/tensorflow/lib/python3.10/site-packages (from requests->pcloud) (3.4)\n",
      "Requirement already satisfied: urllib3<3,>=1.21.1 in /Users/achethanreddy/miniconda3/envs/tensorflow/lib/python3.10/site-packages (from requests->pcloud) (1.26.15)\n",
      "Requirement already satisfied: certifi>=2017.4.17 in /Users/achethanreddy/miniconda3/envs/tensorflow/lib/python3.10/site-packages (from requests->pcloud) (2023.5.7)\n",
      "Installing collected packages: requests-toolbelt, pcloud\n",
      "Successfully installed pcloud-1.2 requests-toolbelt-1.0.0\n",
      "Note: you may need to restart the kernel to use updated packages.\n"
     ]
    }
   ],
   "source": [
    "pip install pcloud"
   ]
  },
  {
   "cell_type": "code",
   "execution_count": 23,
   "id": "4417a685",
   "metadata": {},
   "outputs": [
    {
     "name": "stderr",
     "output_type": "stream",
     "text": [
      "2023-07-30 17:50:24,752 - pcloud - INFO - Using pCloud API endpoint: https://api.pcloud.com/\n",
      "2023-07-30 17:50:24,757 - pcloud - INFO - Using username/password authentication method.\n"
     ]
    },
    {
     "data": {
      "text/plain": [
       "{'result': 0,\n",
       " 'metadata': {'path': '/',\n",
       "  'name': '/',\n",
       "  'created': 'Sun, 30 Jul 2023 07:57:51 +0000',\n",
       "  'ismine': True,\n",
       "  'thumb': False,\n",
       "  'modified': 'Sun, 30 Jul 2023 07:57:51 +0000',\n",
       "  'id': 'd0',\n",
       "  'isshared': False,\n",
       "  'icon': 'folder',\n",
       "  'isfolder': True,\n",
       "  'folderid': 0,\n",
       "  'contents': [{'path': '/Categorised Yoga Videos',\n",
       "    'name': 'Categorised Yoga Videos',\n",
       "    'created': 'Sun, 30 Jul 2023 11:03:12 +0000',\n",
       "    'ismine': True,\n",
       "    'thumb': False,\n",
       "    'modified': 'Sun, 30 Jul 2023 11:03:13 +0000',\n",
       "    'comments': 0,\n",
       "    'id': 'd18232223857',\n",
       "    'isshared': False,\n",
       "    'icon': 'folder',\n",
       "    'isfolder': True,\n",
       "    'parentfolderid': 0,\n",
       "    'folderid': 18232223857}]}}"
      ]
     },
     "execution_count": 23,
     "metadata": {},
     "output_type": "execute_result"
    }
   ],
   "source": [
    "from pcloud import PyCloud\n",
    "pc = PyCloud('achethanreddy1921@gmail.com', 'chethan123$R', endpoint=\"nearest\")\n",
    "pc.listfolder(folderid=0)"
   ]
  },
  {
   "cell_type": "code",
   "execution_count": 26,
   "id": "99a993c6",
   "metadata": {},
   "outputs": [
    {
     "ename": "OnlyPcloudError",
     "evalue": "This method can't be used from web applications. Referrer is restricted to pcloud.com.",
     "output_type": "error",
     "traceback": [
      "\u001b[0;31m---------------------------------------------------------------------------\u001b[0m",
      "\u001b[0;31mOnlyPcloudError\u001b[0m                           Traceback (most recent call last)",
      "Cell \u001b[0;32mIn[26], line 1\u001b[0m\n\u001b[0;32m----> 1\u001b[0m \u001b[43mpc\u001b[49m\u001b[38;5;241;43m.\u001b[39;49m\u001b[43mgetvideolinks\u001b[49m\u001b[43m(\u001b[49m\u001b[43m)\u001b[49m\n",
      "File \u001b[0;32m~/miniconda3/envs/tensorflow/lib/python3.10/site-packages/pcloud/api.py:367\u001b[0m, in \u001b[0;36mPyCloud.getvideolinks\u001b[0;34m(self, **kwargs)\u001b[0m\n\u001b[1;32m    366\u001b[0m \u001b[38;5;28;01mdef\u001b[39;00m \u001b[38;5;21mgetvideolinks\u001b[39m(\u001b[38;5;28mself\u001b[39m, \u001b[38;5;241m*\u001b[39m\u001b[38;5;241m*\u001b[39mkwargs):\n\u001b[0;32m--> 367\u001b[0m     \u001b[38;5;28;01mraise\u001b[39;00m OnlyPcloudError(ONLY_PCLOUD_MSG)\n",
      "\u001b[0;31mOnlyPcloudError\u001b[0m: This method can't be used from web applications. Referrer is restricted to pcloud.com."
     ]
    }
   ],
   "source": [
    "pc.getvideolinks()"
   ]
  },
  {
   "cell_type": "code",
   "execution_count": null,
   "id": "51682444",
   "metadata": {},
   "outputs": [],
   "source": []
  }
 ],
 "metadata": {
  "kernelspec": {
   "display_name": "Python 3.10 (tensorflow)",
   "language": "python",
   "name": "tensorflow"
  },
  "language_info": {
   "codemirror_mode": {
    "name": "ipython",
    "version": 3
   },
   "file_extension": ".py",
   "mimetype": "text/x-python",
   "name": "python",
   "nbconvert_exporter": "python",
   "pygments_lexer": "ipython3",
   "version": "3.10.11"
  }
 },
 "nbformat": 4,
 "nbformat_minor": 5
}
