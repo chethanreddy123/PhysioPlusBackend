{
 "cells": [
  {
   "cell_type": "markdown",
   "id": "f90adeed",
   "metadata": {},
   "source": [
    "# Without Link"
   ]
  },
  {
   "cell_type": "code",
   "execution_count": 5,
   "id": "a660474a",
   "metadata": {},
   "outputs": [
    {
     "name": "stdout",
     "output_type": "stream",
     "text": [
      "Exercises dictionary has been saved as exercises.json.\n"
     ]
    }
   ],
   "source": [
    "import os\n",
    "import json\n",
    "\n",
    "def get_videos_in_folder(folder_path):\n",
    "    videos = [f for f in os.listdir(folder_path) if f.endswith(('.mp4', '.avi', '.mkv', '.mov'))]\n",
    "    return videos\n",
    "\n",
    "def create_exercises_dictionary(root_folder):\n",
    "    folder_structure = {}\n",
    "    for foldername, _, filenames in os.walk(root_folder):\n",
    "        folder_videos = get_videos_in_folder(foldername)\n",
    "        if folder_videos:\n",
    "            foldername_parts = foldername.split(os.path.sep)\n",
    "            foldername = foldername_parts[-1]\n",
    "            folder_structure[foldername] = {f\"Exercise {i+1}\": video for i, video in enumerate(folder_videos)}\n",
    "    return folder_structure\n",
    "\n",
    "# Replace 'path_to_root_folder' with the actual path to your root folder containing multiple folders with videos.\n",
    "path_to_root_folder = '/Users/achethanreddy/Downloads/Categorised Yoga Videos'\n",
    "exercises_dict = create_exercises_dictionary(path_to_root_folder)\n",
    "\n",
    "# Save the exercises dictionary as a JSON file\n",
    "json_file_path = 'exercises.json'\n",
    "with open(json_file_path, 'w') as json_file:\n",
    "    json.dump(exercises_dict, json_file, indent=4)\n",
    "\n",
    "print(f\"Exercises dictionary has been saved as {json_file_path}.\")\n"
   ]
  },
  {
   "cell_type": "markdown",
   "id": "38922409",
   "metadata": {},
   "source": [
    "# With Link"
   ]
  },
  {
   "cell_type": "code",
   "execution_count": 8,
   "id": "742e3900",
   "metadata": {},
   "outputs": [
    {
     "ename": "NameError",
     "evalue": "name 'files' is not defined",
     "output_type": "error",
     "traceback": [
      "\u001b[0;31m---------------------------------------------------------------------------\u001b[0m",
      "\u001b[0;31mNameError\u001b[0m                                 Traceback (most recent call last)",
      "Cell \u001b[0;32mIn[8], line 1\u001b[0m\n\u001b[0;32m----> 1\u001b[0m \u001b[38;5;28;01mfor\u001b[39;00m file \u001b[38;5;129;01min\u001b[39;00m \u001b[43mfiles\u001b[49m:\n\u001b[1;32m      2\u001b[0m     keys \u001b[38;5;241m=\u001b[39m file\u001b[38;5;241m.\u001b[39mkeys()\n\u001b[1;32m      3\u001b[0m     \u001b[38;5;28;01mif\u001b[39;00m file[\u001b[38;5;124m'\u001b[39m\u001b[38;5;124mshared\u001b[39m\u001b[38;5;124m'\u001b[39m]:\n",
      "\u001b[0;31mNameError\u001b[0m: name 'files' is not defined"
     ]
    }
   ],
   "source": [
    "for file in files:\n",
    "    keys = file.keys()\n",
    "    if file['shared']:\n",
    "        link = 'https://drive.google.com/drive/folders/12H1wwfvwpXVbwYi5sstNUon7Pg62yU-V?usp=sharing' + file['id'] + '?usp=sharing'\n",
    "    elif 'webContentLink' in keys:\n",
    "        link = file['webContentLink']\n",
    "    elif 'webViewLink' in keys:\n",
    "        link = file['webViewLink']\n",
    "    else:\n",
    "        link = 'No Link Available. Check your sharing settings.'\n",
    "\n",
    "    if 'name' in keys:\n",
    "        name = file['name']\n",
    "    else:\n",
    "        name = file['id']"
   ]
  },
  {
   "cell_type": "code",
   "execution_count": null,
   "id": "cec6ca4f",
   "metadata": {},
   "outputs": [],
   "source": []
  }
 ],
 "metadata": {
  "kernelspec": {
   "display_name": "Python 3.10 (tensorflow)",
   "language": "python",
   "name": "tensorflow"
  },
  "language_info": {
   "codemirror_mode": {
    "name": "ipython",
    "version": 3
   },
   "file_extension": ".py",
   "mimetype": "text/x-python",
   "name": "python",
   "nbconvert_exporter": "python",
   "pygments_lexer": "ipython3",
   "version": "3.10.11"
  }
 },
 "nbformat": 4,
 "nbformat_minor": 5
}
