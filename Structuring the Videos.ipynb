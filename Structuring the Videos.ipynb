{
 "cells": [
  {
   "cell_type": "markdown",
   "id": "f90adeed",
   "metadata": {},
   "source": [
    "# Without Link"
   ]
  },
  {
   "cell_type": "code",
   "execution_count": 5,
   "id": "a660474a",
   "metadata": {},
   "outputs": [
    {
     "name": "stdout",
     "output_type": "stream",
     "text": [
      "Exercises dictionary has been saved as exercises.json.\n"
     ]
    }
   ],
   "source": [
    "import os\n",
    "import json\n",
    "\n",
    "def get_videos_in_folder(folder_path):\n",
    "    videos = [f for f in os.listdir(folder_path) if f.endswith(('.mp4', '.avi', '.mkv', '.mov'))]\n",
    "    return videos\n",
    "\n",
    "def create_exercises_dictionary(root_folder):\n",
    "    folder_structure = {}\n",
    "    for foldername, _, filenames in os.walk(root_folder):\n",
    "        folder_videos = get_videos_in_folder(foldername)\n",
    "        if folder_videos:\n",
    "            foldername_parts = foldername.split(os.path.sep)\n",
    "            foldername = foldername_parts[-1]\n",
    "            folder_structure[foldername] = {f\"Exercise {i+1}\": video for i, video in enumerate(folder_videos)}\n",
    "    return folder_structure\n",
    "\n",
    "# Replace 'path_to_root_folder' with the actual path to your root folder containing multiple folders with videos.\n",
    "path_to_root_folder = '/Users/achethanreddy/Downloads/Categorised Yoga Videos'\n",
    "exercises_dict = create_exercises_dictionary(path_to_root_folder)\n",
    "\n",
    "# Save the exercises dictionary as a JSON file\n",
    "json_file_path = 'exercises.json'\n",
    "with open(json_file_path, 'w') as json_file:\n",
    "    json.dump(exercises_dict, json_file, indent=4)\n",
    "\n",
    "print(f\"Exercises dictionary has been saved as {json_file_path}.\")\n"
   ]
  },
  {
   "cell_type": "markdown",
   "id": "38922409",
   "metadata": {},
   "source": [
    "# With Link"
   ]
  },
  {
   "cell_type": "code",
   "execution_count": null,
   "id": "1259a898",
   "metadata": {},
   "outputs": [],
   "source": []
  }
 ],
 "metadata": {
  "kernelspec": {
   "display_name": "Python 3.10 (tensorflow)",
   "language": "python",
   "name": "tensorflow"
  },
  "language_info": {
   "codemirror_mode": {
    "name": "ipython",
    "version": 3
   },
   "file_extension": ".py",
   "mimetype": "text/x-python",
   "name": "python",
   "nbconvert_exporter": "python",
   "pygments_lexer": "ipython3",
   "version": "3.10.11"
  }
 },
 "nbformat": 4,
 "nbformat_minor": 5
}
