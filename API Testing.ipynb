{
 "cells": [
  {
   "cell_type": "code",
   "execution_count": 14,
   "id": "4e2c9699",
   "metadata": {},
   "outputs": [
    {
     "name": "stderr",
     "output_type": "stream",
     "text": [
      "test_ping_endpoint (__main__.TestPingEndpoint) ... ok\n",
      "\n",
      "----------------------------------------------------------------------\n",
      "Ran 1 test in 5.041s\n",
      "\n",
      "OK\n"
     ]
    },
    {
     "data": {
      "text/plain": [
       "<unittest.runner.TextTestResult run=1 errors=0 failures=0>"
      ]
     },
     "execution_count": 14,
     "metadata": {},
     "output_type": "execute_result"
    }
   ],
   "source": [
    "import unittest\n",
    "import requests\n",
    "import concurrent.futures\n",
    "\n",
    "class TestPingEndpoint(unittest.TestCase):\n",
    "    def test_ping_endpoint(self):\n",
    "        url = 'http://127.0.0.1:8000/ping'\n",
    "        headers = {\n",
    "            'Content-Type': 'application/json'\n",
    "        }\n",
    "        payload = {\n",
    "            \"Hello\": \"hello\"\n",
    "        }\n",
    "\n",
    "        # Function to send the GET request\n",
    "        def send_request():\n",
    "            response = requests.get(url, headers=headers, json=payload)\n",
    "            return response.status_code\n",
    "\n",
    "        # Create a ThreadPoolExecutor with 10 threads\n",
    "        with concurrent.futures.ThreadPoolExecutor(max_workers=10) as executor:\n",
    "            # Submit the send_request function 10 times concurrently\n",
    "            results = [executor.submit(send_request) for _ in range(10)]\n",
    "            \n",
    "            # Gather the results from the futures\n",
    "            status_codes = [future.result() for future in concurrent.futures.as_completed(results)]\n",
    "\n",
    "        # Check if all responses returned a 200 status code\n",
    "        for status_code in status_codes:\n",
    "            self.assertEqual(status_code, 200)  # Assuming 200 OK response is expected\n",
    "\n",
    "# Create a test suite and run the tests\n",
    "suite = unittest.TestLoader().loadTestsFromTestCase(TestPingEndpoint)\n",
    "unittest.TextTestRunner(verbosity=2).run(suite)\n"
   ]
  },
  {
   "cell_type": "code",
   "execution_count": null,
   "id": "51583a5c",
   "metadata": {},
   "outputs": [],
   "source": []
  },
  {
   "cell_type": "code",
   "execution_count": null,
   "id": "165a5d96",
   "metadata": {},
   "outputs": [],
   "source": []
  }
 ],
 "metadata": {
  "kernelspec": {
   "display_name": "Python 3.10 (tensorflow)",
   "language": "python",
   "name": "tensorflow"
  },
  "language_info": {
   "codemirror_mode": {
    "name": "ipython",
    "version": 3
   },
   "file_extension": ".py",
   "mimetype": "text/x-python",
   "name": "python",
   "nbconvert_exporter": "python",
   "pygments_lexer": "ipython3",
   "version": "3.10.11"
  }
 },
 "nbformat": 4,
 "nbformat_minor": 5
}
